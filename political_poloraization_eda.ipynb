{
 "cells": [
  {
   "cell_type": "markdown",
   "id": "afcdcd64",
   "metadata": {},
   "source": [
    "# Data Details"
   ]
  },
  {
   "attachments": {},
   "cell_type": "markdown",
   "id": "20db755c",
   "metadata": {},
   "source": [
    "https://www.kaggle.com/datasets/justin2028/political-polarization-in-us-congress\n",
    "\n",
    "Tracks polarization data about US Congress (1879-2021) from Voteview\n",
    "\n",
    "\n",
    "https://voteview.com/static/data/out/members/HSall_members.csv \n",
    "\n",
    "52,540 DAYS (March 4th, 1879 to January 7th, 2023)\n",
    "\n",
    "This is a dataset that tracks political polarization in US Congress (46th to 117th) through proportions from 1879 to 2023.\n",
    "\n",
    "All data are official figures from Voteview. Ideological positions are calculated using the DW-NOMINATE (Dynamic Weighted NOMINAl Three-step Estimation). This procedure was developed by Keith T. Poole and Howard Rosenthal in the 1980s and is a \"scaling procedure\", representing legislators on a spatial map. In this sense, a spatial map is much like a road map--the closeness of two legislators on the map shows how similar their voting records are. Using this measure of distance, DW-NOMINATE is able to recover the \"dimensions\" that inform congressional voting behavior.\n",
    "\n",
    "*Data Sources*\n",
    "The primary data source used was Voteview's official website, which publishes ideological data pertaining to America. \n",
    "Voteview's Realtime NOMINATE Ideology and Related Data \n",
    "- Voteview's download links for NOMINATE scores, tutorials for generating ancillary data, and other publicly available databases are stored here.\n",
    "- Voteview's \"Polarization in Congress\" Data Analysis - Jeff Lewis, the project lead of Voteview, published a data analysis of the available polarization data. The detailed work gave insight into the true analytical potential of the dataset, and inspired many elements of my accompanying notebook.\n",
    "- Voteview's \"The Polarization of the Congressional Parties\" - Voteview released a detailed overview of their polarization data, the methodology behind their data, and the proper definitions and terminologies for the variables tracked. The guide mainly provided essential contextual knowledge needed to create a meaningful dataset."
   ]
  },
  {
   "cell_type": "markdown",
   "id": "fde6ed09",
   "metadata": {},
   "source": [
    "- congress: The number of the Congress in which the legislator served.\n",
    "- chamber: The chamber of Congress in which the legislator served (e.g. House or Senate).\n",
    "- icpsr: An identification number for the legislator based on data from the Inter-university Consortium for - Political and Social Research.\n",
    "- state_icpsr: An identification number for the state in which the legislator served.\n",
    "- district_code: A code indicating the district in which the legislator served (if applicable).\n",
    "- state_abbrev: The two-letter abbreviation for the state in which the legislator served.\n",
    "- party_code: A numerical code indicating the party affiliation of the legislator.\n",
    "- occupancy: A code indicating the status of the seat the legislator held (e.g. filled or vacant).\n",
    "- last_means: The method by which the legislator left office (e.g. defeated, resigned, etc.).\n",
    "- bioname: The name of the legislator.\n",
    "- bioguide_id: An identification number for the legislator based on data from the Biographical Directory of the United States Congress.\n",
    "- born: The year of the legislator's birth.\n",
    "- died: The year of the legislator's death (if applicable).\n",
    "- nominate_dim1: A measure of the legislator's ideology based on their voting record.\n",
    "- nominate_dim2: A second measure of the legislator's ideology based on their voting record.\n",
    "- nominate_log_likelihood: A measure of the accuracy of the nominate scores.\n",
    "- nominate_geo_mean_probability: A measure of the reliability of the nominate scores.\n",
    "- nominate_number_of_votes: The number of roll call votes used to calculate the nominate scores.\n",
    "- nominate_number_of_errors: The number of errors in the nominate scores.\n",
    "- conditional: A code indicating whether the nominate scores are conditional on party membership.\n",
    "- nokken_poole_dim1: An alternative measure of the legislator's ideology based on their roll call votes.\n",
    "- nokken_poole_dim2: A second alternative measure of the legislator's ideology based on their roll call votes."
   ]
  },
  {
   "cell_type": "markdown",
   "id": "01894939",
   "metadata": {},
   "source": [
    "# Conclusions"
   ]
  },
  {
   "cell_type": "markdown",
   "id": "04c8fa52",
   "metadata": {},
   "source": [
    "Fields state_icpsr, district_code, and state_abbrev are correlated.\n",
    "All columns starting with nominate have same number of null values."
   ]
  },
  {
   "cell_type": "markdown",
   "id": "f0370062",
   "metadata": {},
   "source": [
    "# Read Data"
   ]
  },
  {
   "cell_type": "code",
   "execution_count": null,
   "id": "f5f91c13",
   "metadata": {},
   "outputs": [],
   "source": [
    "import numpy as np\n",
    "import pandas as pd\n",
    "import glob\n",
    "import os\n",
    "import math\n",
    "from IPython.display import display_html, Markdown, display\n",
    "import seaborn as sns\n",
    "import matplotlib.pyplot as plt"
   ]
  },
  {
   "cell_type": "code",
   "execution_count": null,
   "id": "d614f167",
   "metadata": {},
   "outputs": [],
   "source": [
    "pathvals = ['/kaggle/input/political-polarization-in-us-congress', './input']\n",
    "fnames = ['US History All House and Senate Members.csv']\n",
    "\n",
    "path_str = ''\n",
    "for pathval in pathvals:\n",
    "    if os.path.exists(pathval):\n",
    "        path_str = pathval\n",
    "        break\n",
    "        \n",
    "df = pd.read_csv(os.path.join(path_str, 'US History All House and Senate Members.csv'))"
   ]
  },
  {
   "cell_type": "markdown",
   "id": "c3f61caf",
   "metadata": {},
   "source": [
    "# EDA Functions"
   ]
  },
  {
   "cell_type": "code",
   "execution_count": null,
   "id": "13d3e888",
   "metadata": {},
   "outputs": [],
   "source": [
    "def header_comment(msg):\n",
    "    display(Markdown('**' + msg.upper() + '**'))\n",
    "    display('-' * 50)\n",
    "    \n",
    "def basic_df_info(df):\n",
    "    ''' df.info() provides information about the dimensions, column names, data types, \n",
    "        and non-null values of the dataframe in a concise format.\n",
    "        df.isnull().sum() provides the count of missing values in each column of the dataframe.\n",
    "        df.head() displays the first 5 rows.\n",
    "    '''\n",
    "    \n",
    "    header_comment('BASIC INFORMATION FOR DATAFRAME')\n",
    "    print(df.columns)\n",
    "    print(df.info())    \n",
    "    display(df.head())\n",
    "    \n",
    "def display_nonnull_info(df):\n",
    "    header_comment('NONNULL DATA INFORMATION - BASIC')\n",
    "    if df.isnull().any().any():\n",
    "        null_counts = df.isnull().sum()\n",
    "        nonzero_null_counts = null_counts[null_counts > 0]\n",
    "        nonzero_null_cols = list(nonzero_null_counts.index)\n",
    "        df[nonzero_null_cols].info(show_counts=True)\n",
    "\n",
    "def display_null_info(df):\n",
    "    header_comment('NULL DATA INFORMATION - BASIC')\n",
    "    if df.isnull().any().any():\n",
    "        null_counts = df.isnull().sum()\n",
    "        nonzero_null_counts = null_counts[null_counts > 0]\n",
    "        print(nonzero_null_counts)\n",
    "        \n",
    "def display_null_info_detailed(df):\n",
    "    ''' Shows Null count for columns which have nonzero null values \n",
    "        Shows percentage of null values as also the column datatype \n",
    "    '''\n",
    "    null_counts = df.isnull().sum()\n",
    "    nonzero_null_counts = null_counts[null_counts > 0]\n",
    "\n",
    "    nonzero_null_cols = list(nonzero_null_counts.index)\n",
    "    dtypes = df.dtypes[nonzero_null_cols]\n",
    "\n",
    "    df_null_info = pd.concat([nonzero_null_counts, dtypes], axis=1)\n",
    "    df_null_info.columns = ['Null Count', 'Data Type']\n",
    "    df_null_info['Percentage'] = round(df_null_info['Null Count'] / len(df) * 100, 2)\n",
    "\n",
    "    print(df_null_info)"
   ]
  },
  {
   "cell_type": "markdown",
   "id": "c242f671",
   "metadata": {},
   "source": [
    "# EDA Functions - Detailed Column Information"
   ]
  },
  {
   "cell_type": "code",
   "execution_count": null,
   "id": "5fab0e3a",
   "metadata": {},
   "outputs": [],
   "source": [
    "def display_columns_info(category, ls, additional=None):\n",
    "    if additional is None:\n",
    "        print(category, len(ls), ls)\n",
    "    else:\n",
    "        print(category, len(ls), ls, additional)\n",
    "\n",
    "def display_allcolumns_info(df):\n",
    "    ''' \n",
    "    '''\n",
    "    header_comment('COLUMNS METADATA')\n",
    "    display_columns_info('All Columns', df.columns.tolist(), '\\n')\n",
    "    display_columns_info('Numeric Columns', df.select_dtypes(include=np.number).columns.tolist(), '\\n')\n",
    "    display_columns_info('Non Numeric Columns', df.select_dtypes(exclude=np.number).columns.tolist(), '\\n')\n",
    "    \n",
    "def display_nonnumeric_column_abnormalityinfo(df):\n",
    "    ''' Check if a nonnumeric column has whitespace and nan value\n",
    "    '''\n",
    "    \n",
    "    header_comment('Non Numeric column information')\n",
    "    for col in df.select_dtypes(exclude=np.number).columns:\n",
    "        count_spaces = 0\n",
    "        count_nan = 0\n",
    "        count = 0\n",
    "        for item in df[col].tolist():\n",
    "            if pd.isna(item):\n",
    "                count_nan += 1\n",
    "            else:\n",
    "                try:\n",
    "                    if item.strip(' ') != item:\n",
    "                        count_spaces =+ 1\n",
    "                except Exception as e:\n",
    "                    print('Column ' + col + '. Row Count ' + str(count) + '. Value ' + str(item))\n",
    "                    print(e)\n",
    "            \n",
    "            count += 1\n",
    "        \n",
    "        if count_spaces > 0:\n",
    "            print('Column <{}> has <{}> cells with spaces'.format(col, count_spaces))\n",
    "        if count_nan > 0:\n",
    "            print('Column <{}> has <{}> cells with nan'.format(col, count_nan))\n",
    "        \n",
    "\n",
    "def display_numeric_column_info(df, metrices_to_show={'count', 'min', 'max'}):\n",
    "    ''' Potential metrices : {'count','mean','std','min','25%','50%','75%','max'}\n",
    "    '''\n",
    "\n",
    "    header_comment('Numeric column information')\n",
    "    print('Columns with NaN values', df.columns[df.isna().any()].tolist())\n",
    "    \n",
    "    data = []\n",
    "    for col in df.select_dtypes(include=np.number).columns:\n",
    "        dict_v = df[col].describe().to_dict()\n",
    "        dict_v = {key: dict_v[key] for key in dict_v if key in metrices_to_show}\n",
    "        dict_v = {'column Name': col, **dict_v, 'nan count': df[col].isna().sum()}\n",
    "        data.append(dict_v)\n",
    "        \n",
    "    display(pd.DataFrame(data))"
   ]
  },
  {
   "cell_type": "markdown",
   "id": "d59839b3",
   "metadata": {},
   "source": [
    "# Basic EDA"
   ]
  },
  {
   "cell_type": "code",
   "execution_count": null,
   "id": "ab722e39",
   "metadata": {},
   "outputs": [],
   "source": [
    "basic_df_info(df)"
   ]
  },
  {
   "cell_type": "code",
   "execution_count": null,
   "id": "254e7b9e",
   "metadata": {},
   "outputs": [],
   "source": [
    "display_null_info_detailed(df)"
   ]
  },
  {
   "cell_type": "code",
   "execution_count": null,
   "id": "da72b684",
   "metadata": {},
   "outputs": [],
   "source": [
    "display_allcolumns_info(df)"
   ]
  },
  {
   "cell_type": "code",
   "execution_count": null,
   "id": "4b153d04",
   "metadata": {},
   "outputs": [],
   "source": [
    "display_nonnumeric_column_abnormalityinfo(df)"
   ]
  },
  {
   "cell_type": "code",
   "execution_count": null,
   "id": "5016f4cb",
   "metadata": {},
   "outputs": [],
   "source": [
    "print('Number of unique values:') \n",
    "\n",
    "df_unique = df[['congress', 'chamber', 'icpsr', 'state_icpsr', 'district_code', 'state_abbrev', \n",
    "                'party_code', 'occupancy', 'last_means', 'bioname', 'bioguide_id', 'born', 'died']] \n",
    "\n",
    "print(df_unique.nunique()) "
   ]
  },
  {
   "cell_type": "markdown",
   "id": "05c5e63b",
   "metadata": {},
   "source": [
    "# Histograms"
   ]
  },
  {
   "cell_type": "markdown",
   "id": "4426d60a",
   "metadata": {},
   "source": [
    "Only These histograms make sense even though there are other float64 columns\n",
    "\n",
    "- born: representing the year of birth of the congress member.\n",
    "- died: representing the year of death of the congress member.\n",
    "- nominate_dim1: representing the first dimension of the NOMINATE score.\n",
    "- nominate_dim2: representing the second dimension of the NOMINATE score.\n",
    "- nominate_log_likelihood: representing the maximum likelihood of the NOMINATE model.\n",
    "- nominate_geo_mean_probability: representing the geometric mean of the NOMINATE probabilities.\n",
    "- nominate_number_of_votes: representing the number of times a member of Congress voted in the analyzed period.\n",
    "- nominate_number_of_errors: representing the number of times a member of Congress's vote disagreed with the - position taken by their party on a given issue.\n",
    "- nokken_poole_dim1: representing the first dimension of the Nokken-Poole score.\n",
    "- nokken_poole_dim2: representing the second dimension of the Nokken-Poole score."
   ]
  },
  {
   "cell_type": "code",
   "execution_count": null,
   "id": "b5bc914d",
   "metadata": {},
   "outputs": [],
   "source": [
    "def plot_histograms(df, column_names, num_rows, num_cols):\n",
    "    sns.set_style('whitegrid')\n",
    "    sns.set_context('paper', font_scale=1.2)\n",
    "    \n",
    "    fig, axes = plt.subplots(nrows=num_rows, ncols=num_cols, figsize=(num_cols * 5, num_rows * 3))\n",
    "    fig.subplots_adjust(wspace=0.3, hspace=0.6)\n",
    "    \n",
    "    # Plot histograms and density plots for each variable on a separate subplot\n",
    "    for i, ax in enumerate(axes.flat):\n",
    "        if i < len(column_names):\n",
    "            sns.histplot(data=df, x=column_names[i], kde=True, ax=ax)\n",
    "\n",
    "    plt.show()"
   ]
  },
  {
   "cell_type": "code",
   "execution_count": null,
   "id": "7d18b79b",
   "metadata": {},
   "outputs": [],
   "source": [
    "df_charts = df [['born', 'died', 'nominate_dim1', 'nominate_dim2','nominate_log_likelihood', 'nominate_geo_mean_probability', \n",
    "    'nominate_number_of_votes', 'nominate_number_of_errors', 'nokken_poole_dim1', 'nokken_poole_dim2']]"
   ]
  },
  {
   "cell_type": "code",
   "execution_count": null,
   "id": "82efca93",
   "metadata": {},
   "outputs": [],
   "source": [
    "plot_histograms(df_charts, ['born', 'died'], 1, 2)"
   ]
  },
  {
   "cell_type": "code",
   "execution_count": null,
   "id": "30bf8c5b",
   "metadata": {},
   "outputs": [],
   "source": [
    "plot_histograms(df_charts, [\n",
    "    'nominate_dim1', 'nominate_dim2','nominate_log_likelihood', 'nominate_geo_mean_probability', \n",
    "    'nominate_number_of_votes', 'nominate_number_of_errors', 'nokken_poole_dim1', 'nokken_poole_dim2'], 4, 2)"
   ]
  },
  {
   "cell_type": "markdown",
   "id": "3296b9f8",
   "metadata": {},
   "source": [
    "# Categorical EDA"
   ]
  },
  {
   "cell_type": "code",
   "execution_count": null,
   "id": "31a43628",
   "metadata": {},
   "outputs": [],
   "source": [
    "value_counts = pd.DataFrame(df['occupancy'].value_counts()).reset_index()\n",
    "\n",
    "sns.set_style('whitegrid')\n",
    "\n",
    "fig, ax = plt.subplots(figsize=(8, 6))\n",
    "\n",
    "sns.barplot(x='index', y='occupancy', data=value_counts, color='blue', ax=ax)\n",
    "ax.set_yscale('log')\n",
    "ax.set_xlabel('Occupancy')\n",
    "ax.set_ylabel('Count')\n",
    "ax.set_title('Occupancy Distribution')\n",
    "\n",
    "# Add text labels on top of the bars\n",
    "for i, v in enumerate(value_counts['occupancy']):\n",
    "    ax.text(i, v, str(v), color='black', ha='center')\n",
    "\n",
    "plt.show()"
   ]
  },
  {
   "cell_type": "markdown",
   "id": "d1724d25",
   "metadata": {},
   "source": [
    "# Partial details functions"
   ]
  },
  {
   "cell_type": "code",
   "execution_count": null,
   "id": "4c2ea5de",
   "metadata": {},
   "outputs": [],
   "source": [
    "def get_partial_df_for_column_with_nan(df, col_name):\n",
    "    ''' Extract partial dataframe where NAN values Are present for teh given column\n",
    "    '''\n",
    "    mask = df[col_name].isnull()\n",
    "    df_op = df.loc[mask]\n",
    "    \n",
    "    return(df_op)\n",
    "\n",
    "def display_partial_df_for_column_with_nan(df, col_name):\n",
    "    display(get_partial_df_for_column_with_nan(df, col_name))"
   ]
  },
  {
   "cell_type": "code",
   "execution_count": null,
   "id": "d57f791b",
   "metadata": {},
   "outputs": [],
   "source": [
    "df_t = get_partial_df_for_column_with_nan(df, 'bioguide_id')\n",
    "df_t['chamber'].tolist()"
   ]
  }
 ],
 "metadata": {
  "kernelspec": {
   "display_name": "Python 3 (ipykernel)",
   "language": "python",
   "name": "python3"
  },
  "language_info": {
   "codemirror_mode": {
    "name": "ipython",
    "version": 3
   },
   "file_extension": ".py",
   "mimetype": "text/x-python",
   "name": "python",
   "nbconvert_exporter": "python",
   "pygments_lexer": "ipython3",
   "version": "3.10.9"
  }
 },
 "nbformat": 4,
 "nbformat_minor": 5
}
